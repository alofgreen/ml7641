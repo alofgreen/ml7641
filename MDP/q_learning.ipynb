{
 "cells": [
  {
   "cell_type": "markdown",
   "metadata": {},
   "source": [
    "## import libs"
   ]
  },
  {
   "cell_type": "code",
   "execution_count": 1,
   "metadata": {
    "ExecuteTime": {
     "end_time": "2019-04-11T02:09:28.031260Z",
     "start_time": "2019-04-11T02:09:26.965432Z"
    }
   },
   "outputs": [],
   "source": [
    "import numpy as np\n",
    "import pandas as pd\n",
    "from envs import GridworldEnv, WindyFrozenLake\n",
    "from cs7641a4 import policy_eval, policy_improvement, value_iteration, matprint,\\\n",
    "                    print_policy, plot_pi_results, plot_vi_results, q_learning, perform\n",
    "import plotting\n",
    "import time\n",
    "import seaborn as sns\n",
    "import matplotlib.pyplot as plt"
   ]
  },
  {
   "cell_type": "markdown",
   "metadata": {},
   "source": [
    "## create envs"
   ]
  },
  {
   "cell_type": "code",
   "execution_count": 2,
   "metadata": {
    "ExecuteTime": {
     "end_time": "2019-04-11T02:09:28.194670Z",
     "start_time": "2019-04-11T02:09:28.035883Z"
    }
   },
   "outputs": [],
   "source": [
    "gw64 = GridworldEnv(shape = [8,8])\n",
    "fl256 = WindyFrozenLake(map_name=\"16x16\")\n",
    "fl64 = WindyFrozenLake(map_name=\"8x8\")\n",
    "envs = [(gw64, gw64.shape), (fl64,[8,8]), (fl256, [16,16])]"
   ]
  },
  {
   "cell_type": "markdown",
   "metadata": {},
   "source": [
    "## q-learning"
   ]
  },
  {
   "cell_type": "code",
   "execution_count": 3,
   "metadata": {
    "ExecuteTime": {
     "end_time": "2019-04-11T02:09:29.848986Z",
     "start_time": "2019-04-11T02:09:29.062040Z"
    }
   },
   "outputs": [],
   "source": [
    "t = q_learning(gw64, 1000)\n",
    "# Q_fl64, stats_fl64 = q_learning(fl64, 1000)\n",
    "# Q_fl256, stats_fl256 = q_learning(fl256, 1000)"
   ]
  },
  {
   "cell_type": "code",
   "execution_count": 4,
   "metadata": {
    "ExecuteTime": {
     "end_time": "2019-04-11T02:13:41.141276Z",
     "start_time": "2019-04-11T02:09:30.114510Z"
    }
   },
   "outputs": [],
   "source": [
    "q_learning_results_gw64 = []\n",
    "q_learning_results_fl64 = []\n",
    "q_learning_results_fl256 = []\n",
    "\n",
    "for df in [0.2,0.4,0.6,0.9]:\n",
    "    for a in [0.2,0.4,0.6,0.9]:\n",
    "        for e in [0.2,0.4,0.6,0.9]:\n",
    "            \n",
    "            t = time.clock()\n",
    "            res_gw64 = q_learning(gw64, 500)\n",
    "            t2 = time.clock() - t\n",
    "            res_gw64 = res_gw64 + ([df,a,e],)\n",
    "            avg = np.average(res_gw64[1][-50:])\n",
    "            res_gw64 = res_gw64 + (avg,)\n",
    "            res_gw64 = res_gw64 + (t2,)\n",
    "            q_learning_results_gw64.append(res_gw64)\n",
    "\n",
    "            t = time.clock()\n",
    "            res_fl64 = q_learning(fl64, 500)\n",
    "            t2 = time.clock() - t\n",
    "            res_fl64 = res_fl64 + ([df,a,e],)\n",
    "            avg = np.average(res_fl64[1][-50:])\n",
    "            res_fl64 = res_fl64 + (avg,)\n",
    "            res_fl64 = res_fl64 + (t2,)\n",
    "            q_learning_results_fl64.append(res_fl64)\n",
    "\n",
    "            t = time.clock()\n",
    "            res_fl256 = q_learning(fl256, 1000)\n",
    "            t2 = time.clock() - t\n",
    "            res_fl256 = res_fl256 + ([df,a,e],)\n",
    "            avg = np.average(res_fl256[1][-50:])\n",
    "            res_fl256 = res_fl256 + (avg,)\n",
    "            res_fl64 = res_fl64 + (t2,)\n",
    "            q_learning_results_fl256.append(res_fl256)"
   ]
  },
  {
   "cell_type": "code",
   "execution_count": 6,
   "metadata": {
    "ExecuteTime": {
     "end_time": "2019-04-11T02:13:41.168817Z",
     "start_time": "2019-04-11T02:13:41.159787Z"
    }
   },
   "outputs": [],
   "source": [
    "_1 = np.argmax([x[3] for x in q_learning_results_gw64])\n",
    "_2 = np.argmax([x[3] for x in q_learning_results_fl64])\n",
    "_3 = np.argmax([x[3] for x in q_learning_results_fl256])"
   ]
  },
  {
   "cell_type": "code",
   "execution_count": null,
   "metadata": {
    "ExecuteTime": {
     "end_time": "2019-04-11T02:07:13.049775Z",
     "start_time": "2019-04-11T02:07:12.497238Z"
    }
   },
   "outputs": [],
   "source": [
    "plotting.plot_episode_stats(q_learning_results_gw64[_1][1], noshow=True, save_as='gw64')"
   ]
  },
  {
   "cell_type": "code",
   "execution_count": null,
   "metadata": {
    "ExecuteTime": {
     "end_time": "2019-04-11T02:07:34.939312Z",
     "start_time": "2019-04-11T02:07:34.346590Z"
    }
   },
   "outputs": [],
   "source": [
    "plotting.plot_episode_stats(q_learning_results_fl64[_2][1], noshow=True, save_as='fl64')"
   ]
  },
  {
   "cell_type": "code",
   "execution_count": null,
   "metadata": {
    "ExecuteTime": {
     "end_time": "2019-04-11T02:07:52.506316Z",
     "start_time": "2019-04-11T02:07:51.921885Z"
    }
   },
   "outputs": [],
   "source": [
    "plotting.plot_episode_stats(q_learning_results_fl64[_3][1], noshow=True, save_as='fl256')"
   ]
  },
  {
   "cell_type": "code",
   "execution_count": null,
   "metadata": {
    "ExecuteTime": {
     "end_time": "2019-04-11T02:08:54.868857Z",
     "start_time": "2019-04-11T02:08:54.861380Z"
    }
   },
   "outputs": [],
   "source": [
    "'episode per time step {}'.format('save_as')"
   ]
  },
  {
   "cell_type": "code",
   "execution_count": null,
   "metadata": {},
   "outputs": [],
   "source": []
  }
 ],
 "metadata": {
  "kernelspec": {
   "display_name": "Python 3",
   "language": "python",
   "name": "python3"
  },
  "language_info": {
   "codemirror_mode": {
    "name": "ipython",
    "version": 3
   },
   "file_extension": ".py",
   "mimetype": "text/x-python",
   "name": "python",
   "nbconvert_exporter": "python",
   "pygments_lexer": "ipython3",
   "version": "3.6.7"
  },
  "toc": {
   "base_numbering": 1,
   "nav_menu": {},
   "number_sections": true,
   "sideBar": true,
   "skip_h1_title": false,
   "title_cell": "Table of Contents",
   "title_sidebar": "Contents",
   "toc_cell": false,
   "toc_position": {},
   "toc_section_display": true,
   "toc_window_display": false
  }
 },
 "nbformat": 4,
 "nbformat_minor": 2
}
