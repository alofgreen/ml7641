{
 "cells": [
  {
   "cell_type": "markdown",
   "metadata": {
    "heading_collapsed": true
   },
   "source": [
    "## Code for subimssion"
   ]
  },
  {
   "cell_type": "code",
   "execution_count": 29,
   "metadata": {
    "ExecuteTime": {
     "end_time": "2019-04-10T11:08:46.339726Z",
     "start_time": "2019-04-10T11:08:46.330755Z"
    },
    "hidden": true
   },
   "outputs": [
    {
     "name": "stdout",
     "output_type": "stream",
     "text": [
      "Writing DP.py\n"
     ]
    }
   ],
   "source": [
    "%%writefile DP.py\n",
    "\n",
    "import numpy as np\n",
    "import pandas as pd\n",
    "from envs import GridworldEnv, WindyFrozenLake\n",
    "from cs7641a4 import policy_eval, policy_improvement, value_iteration, matprint, print_policy, plot_pi_results, plot_vi_results\n",
    "import time\n",
    "import seaborn as sns\n",
    "import matplotlib.pyplot as plt\n",
    "\n",
    "gw64 = GridworldEnv(shape = [8,8])\n",
    "fl256 = WindyFrozenLake(map_name=\"16x16\")\n",
    "fl64 = WindyFrozenLake(map_name=\"8x8\")\n",
    "envs = [(gw64, gw64.shape), (fl64,[8,8]), (fl256, [16,16])]\n",
    "\n",
    "\n",
    "## discount factor of 0.9\n",
    "discount_factor = 0.9\n",
    "\n",
    "## policy iteration\n",
    "pi_times = []\n",
    "pi_iterations = []\n",
    "pi_eval_time = []\n",
    "pi_1_policies = []\n",
    "for i in envs:\n",
    "    \n",
    "    env = i[0]\n",
    "    shape = i[1]\n",
    "    \n",
    "    \n",
    "    t = time.clock()\n",
    "    pi_policy, v, iterations, eval_time = policy_improvement(env, discount_factor = discount_factor)\n",
    "    pi_1_policies.append(pi_policy)\n",
    "    pi_times.append(time.clock() - t)\n",
    "    pi_iterations.append(iterations)\n",
    "    pi_eval_time.append(eval_time)\n",
    "    \n",
    "    \n",
    "    print(\"Reshaped Grid Policy (0=LEFT, 1=DOWN, 2=RIGHT, 3=UP):\")\n",
    "    print(np.reshape(np.argmax(pi_policy, axis=1), shape))\n",
    "    pi = np.argmax(pi_policy, axis=1)\n",
    "    print(\"\")\n",
    "    \n",
    "plot_pi_results(x_axis = [\"GW 8x8\", \"FL 8x8\",\"FL 16X16\"], \n",
    "                pi_iterations = pi_iterations, \n",
    "                pi_times = pi_times, \n",
    "                pi_eval_time = pi_eval_time,\n",
    "                save_as = 'PI_1.png')\n",
    "\n",
    "pi_policy, v, iterations, eval_time = policy_improvement(gw64)\n",
    "pi = np.argmax(pi_policy, axis=1)\n",
    "matprint(print_policy(pi, width=8, height=8))\n",
    "\n",
    "\n",
    "## value iteration\n",
    "vi_times = []\n",
    "vi_iterations = []\n",
    "vi_1_policies = []\n",
    "for i in envs:\n",
    "\n",
    "    env = i[0]\n",
    "    shape = i[1]\n",
    "    \n",
    "    t = time.clock()\n",
    "    vi_policy, v, iterations = value_iteration(env)\n",
    "    vi_1_policies.append(vi_policy)\n",
    "    vi_times.append(time.clock() - t)\n",
    "    vi_iterations.append(iterations)\n",
    "\n",
    "    print(\"Reshaped Grid Policy (0=left, 1=down, 2=right, 3=up):\")\n",
    "    print(np.reshape(np.argmax(vi_policy, axis=1), shape))\n",
    "    print(\"\")\n",
    "    \n",
    "plot_vi_results(x_axis = [\"GW 8x8\", \"FL 8x8\",\"FL 16X16\"], \n",
    "                vi_iterations = vi_iterations, \n",
    "                vi_times = vi_times,\n",
    "                save_as = \"VI_1.png\")\n",
    "\n",
    "vi_policy, v, iterations = value_iteration(gw64)\n",
    "pi = np.argmax(vi_policy, axis=1)\n",
    "matprint(print_policy(pi, width=8, height=8))\n",
    "\n",
    "## discount factor of 0.5\n",
    "\n",
    "discount_factor = 0.5\n",
    "\n",
    "pi_times = []\n",
    "pi_iterations = []\n",
    "pi_eval_time = []\n",
    "pi_2_policies = []\n",
    "for i in envs:\n",
    "    \n",
    "    env = i[0]\n",
    "    shape = i[1]\n",
    "    \n",
    "    \n",
    "    t = time.clock()\n",
    "    pi_policy, v, iterations, eval_time = policy_improvement(env, discount_factor = discount_factor)\n",
    "    pi_2_policies.append(pi_policy)\n",
    "    pi_times.append(time.clock() - t)\n",
    "    pi_iterations.append(iterations)\n",
    "    pi_eval_time.append(eval_time)\n",
    "    \n",
    "    \n",
    "    print(\"Reshaped Grid Policy (0=LEFT, 1=DOWN, 2=RIGHT, 3=UP):\")\n",
    "    print(np.reshape(np.argmax(pi_policy, axis=1), shape))\n",
    "    pi = np.argmax(pi_policy, axis=1)\n",
    "    print(\"\")\n",
    "    \n",
    "plot_pi_results(x_axis = [\"GW 8x8\", \"FL 8x8\",\"FL 16X16\"], \n",
    "                pi_iterations = pi_iterations, \n",
    "                pi_times = pi_times, \n",
    "                pi_eval_time = pi_eval_time,\n",
    "                save_as = 'PI_2.png')\n",
    "\n",
    "pi_policy, v, iterations, eval_time = policy_improvement(gw64)\n",
    "pi = np.argmax(pi_policy, axis=1)\n",
    "matprint(print_policy(pi, width=8, height=8))\n",
    "\n",
    "vi_times = []\n",
    "vi_iterations = []\n",
    "vi_2_policies = []\n",
    "for i in envs:\n",
    "\n",
    "    env = i[0]\n",
    "    shape = i[1]\n",
    "    \n",
    "    t = time.clock()\n",
    "    vi_policy, v, iterations = value_iteration(env, discount_factor = discount_factor)\n",
    "    vi_2_policies.append(vi_policy)\n",
    "    vi_times.append(time.clock() - t)\n",
    "    vi_iterations.append(iterations)\n",
    "\n",
    "    print(\"Reshaped Grid Policy (0=left, 1=down, 2=right, 3=up):\")\n",
    "    print(np.reshape(np.argmax(vi_policy, axis=1), shape))\n",
    "    print(\"\")\n",
    "    \n",
    "plot_vi_results(x_axis = [\"GW 8x8\", \"FL 8x8\",\"FL 16X16\"], \n",
    "                vi_iterations = vi_iterations, \n",
    "                vi_times = vi_times,\n",
    "                save_as = 'VI_2.png')\n",
    "\n",
    "vi_policy, v, iterations = value_iteration(gw64)\n",
    "pi = np.argmax(vi_policy, axis=1)\n",
    "matprint(print_policy(pi, width=8, height=8))"
   ]
  },
  {
   "cell_type": "markdown",
   "metadata": {},
   "source": [
    "## Import libs"
   ]
  },
  {
   "cell_type": "code",
   "execution_count": 16,
   "metadata": {
    "ExecuteTime": {
     "end_time": "2019-04-10T10:51:05.224038Z",
     "start_time": "2019-04-10T10:51:05.218899Z"
    }
   },
   "outputs": [],
   "source": [
    "import numpy as np\n",
    "import pandas as pd\n",
    "from envs import GridworldEnv, WindyFrozenLake\n",
    "from cs7641a4 import policy_eval, policy_improvement, value_iteration, matprint, print_policy, plot_pi_results, plot_vi_results\n",
    "import time\n",
    "import seaborn as sns\n",
    "import matplotlib.pyplot as plt"
   ]
  },
  {
   "cell_type": "markdown",
   "metadata": {},
   "source": [
    "## Create environments"
   ]
  },
  {
   "cell_type": "code",
   "execution_count": 17,
   "metadata": {
    "ExecuteTime": {
     "end_time": "2019-04-10T10:51:05.562020Z",
     "start_time": "2019-04-10T10:51:05.461679Z"
    }
   },
   "outputs": [],
   "source": [
    "gw64 = GridworldEnv(shape = [8,8])\n",
    "fl256 = WindyFrozenLake(map_name=\"16x16\")\n",
    "fl64 = WindyFrozenLake(map_name=\"8x8\")\n",
    "envs = [(gw64, gw64.shape), (fl64,[8,8]), (fl256, [16,16])]"
   ]
  },
  {
   "cell_type": "markdown",
   "metadata": {
    "heading_collapsed": true
   },
   "source": [
    "## policy iteration and value iteration: discount factor = 0.9"
   ]
  },
  {
   "cell_type": "code",
   "execution_count": 18,
   "metadata": {
    "ExecuteTime": {
     "end_time": "2019-04-10T10:51:06.185305Z",
     "start_time": "2019-04-10T10:51:06.181079Z"
    },
    "hidden": true
   },
   "outputs": [],
   "source": [
    "discount_factor = 0.9"
   ]
  },
  {
   "cell_type": "code",
   "execution_count": 19,
   "metadata": {
    "ExecuteTime": {
     "end_time": "2019-04-10T10:51:12.850680Z",
     "start_time": "2019-04-10T10:51:06.658904Z"
    },
    "hidden": true
   },
   "outputs": [
    {
     "name": "stdout",
     "output_type": "stream",
     "text": [
      "Reshaped Grid Policy (0=LEFT, 1=DOWN, 2=RIGHT, 3=UP):\n",
      "[[0 0 0 0 0 0 0 0]\n",
      " [3 0 0 0 0 0 0 1]\n",
      " [3 0 0 0 0 0 1 1]\n",
      " [3 0 0 0 0 1 1 1]\n",
      " [3 0 0 0 1 1 1 1]\n",
      " [3 0 0 1 1 1 1 1]\n",
      " [3 0 1 1 1 1 1 1]\n",
      " [2 2 2 2 2 2 2 0]]\n",
      "\n",
      "Reshaped Grid Policy (0=LEFT, 1=DOWN, 2=RIGHT, 3=UP):\n",
      "[[1 1 1 1 1 1 1 1]\n",
      " [1 1 1 2 1 1 1 1]\n",
      " [1 1 1 0 1 2 1 1]\n",
      " [2 2 2 2 1 0 1 1]\n",
      " [2 2 3 0 1 1 2 1]\n",
      " [1 0 0 2 2 1 0 1]\n",
      " [1 0 2 3 0 1 0 1]\n",
      " [2 2 3 0 2 2 2 0]]\n",
      "\n",
      "Reshaped Grid Policy (0=LEFT, 1=DOWN, 2=RIGHT, 3=UP):\n",
      "[[1 1 1 1 1 1 1 1 1 1 1 0 2 1 1 0]\n",
      " [2 1 1 2 1 1 1 1 1 1 1 0 0 1 1 0]\n",
      " [0 1 1 0 1 2 1 1 1 1 1 0 1 0 1 0]\n",
      " [1 2 2 2 1 0 1 1 1 2 2 2 1 0 1 0]\n",
      " [1 0 3 0 1 1 2 1 1 0 3 0 1 1 0 0]\n",
      " [1 0 0 2 2 1 0 1 1 0 0 2 2 1 0 3]\n",
      " [1 0 1 0 0 1 0 2 1 0 1 0 0 1 0 3]\n",
      " [2 1 1 0 2 1 1 0 1 1 1 0 1 1 1 0]\n",
      " [0 1 1 0 0 1 1 0 1 1 1 0 1 1 1 0]\n",
      " [1 1 1 0 1 1 1 0 1 1 1 0 1 1 1 1]\n",
      " [1 2 1 0 1 2 1 1 2 1 1 0 1 2 1 1]\n",
      " [1 0 1 2 1 0 1 1 0 2 2 2 1 0 1 1]\n",
      " [2 2 1 0 1 1 2 1 1 0 3 0 1 1 2 1]\n",
      " [3 0 2 2 2 1 0 1 1 0 0 1 2 1 0 1]\n",
      " [1 0 2 3 0 1 0 1 1 0 1 1 0 1 0 1]\n",
      " [2 2 3 0 2 2 2 2 2 2 2 2 2 2 2 0]]\n",
      "\n",
      "←  ←  ←   ←   ←   ←   ←   ←   \n",
      "↑  ←  ←   ←   ←   ←   ←    ↓  \n",
      "↑  ←  ←   ←   ←   ←    ↓   ↓  \n",
      "↑  ←  ←   ←   ←    ↓   ↓   ↓  \n",
      "↑  ←  ←   ←    ↓   ↓   ↓   ↓  \n",
      "↑  ←  ←    ↓   ↓   ↓   ↓   ↓  \n",
      "↑  ←   ↓   ↓   ↓   ↓   ↓   ↓  \n",
      "→  →  →   →   →   →   →   ←   \n"
     ]
    },
    {
     "data": {
      "image/png": "[encoded data removed]",
      "text/plain": [
       "<Figure size 720x360 with 2 Axes>"
      ]
     },
     "metadata": {
      "needs_background": "light"
     },
     "output_type": "display_data"
    }
   ],
   "source": [
    "pi_times = []\n",
    "pi_iterations = []\n",
    "pi_eval_time = []\n",
    "pi_1_policies = []\n",
    "for i in envs:\n",
    "    \n",
    "    env = i[0]\n",
    "    shape = i[1]\n",
    "    \n",
    "    \n",
    "    t = time.clock()\n",
    "    pi_policy, v, iterations, eval_time = policy_improvement(env, discount_factor = discount_factor)\n",
    "    pi_1_policies.append(pi_policy)\n",
    "    pi_times.append(time.clock() - t)\n",
    "    pi_iterations.append(iterations)\n",
    "    pi_eval_time.append(eval_time)\n",
    "    \n",
    "    \n",
    "    print(\"Reshaped Grid Policy (0=LEFT, 1=DOWN, 2=RIGHT, 3=UP):\")\n",
    "    print(np.reshape(np.argmax(pi_policy, axis=1), shape))\n",
    "    pi = np.argmax(pi_policy, axis=1)\n",
    "    print(\"\")\n",
    "    \n",
    "plot_pi_results(x_axis = [\"GW 8x8\", \"FL 8x8\",\"FL 16X16\"], \n",
    "                pi_iterations = pi_iterations, \n",
    "                pi_times = pi_times, \n",
    "                pi_eval_time = pi_eval_time,\n",
    "                save_as = 'PI_1.png')\n",
    "\n",
    "pi_policy, v, iterations, eval_time = policy_improvement(gw64)\n",
    "pi = np.argmax(pi_policy, axis=1)\n",
    "matprint(print_policy(pi, width=8, height=8))"
   ]
  },
  {
   "cell_type": "code",
   "execution_count": 20,
   "metadata": {
    "ExecuteTime": {
     "end_time": "2019-04-10T10:51:14.302956Z",
     "start_time": "2019-04-10T10:51:12.859380Z"
    },
    "hidden": true
   },
   "outputs": [
    {
     "name": "stdout",
     "output_type": "stream",
     "text": [
      "Reshaped Grid Policy (0=left, 1=down, 2=right, 3=up):\n",
      "[[0 0 0 0 0 0 0 1]\n",
      " [3 0 0 0 0 0 1 1]\n",
      " [3 0 0 0 0 1 1 1]\n",
      " [3 0 0 0 1 1 1 1]\n",
      " [3 0 0 1 1 1 1 1]\n",
      " [3 0 1 1 1 1 1 1]\n",
      " [3 1 1 1 1 1 1 1]\n",
      " [2 2 2 2 2 2 2 0]]\n",
      "\n",
      "Reshaped Grid Policy (0=left, 1=down, 2=right, 3=up):\n",
      "[[1 1 1 1 1 1 1 1]\n",
      " [1 1 1 2 1 1 1 1]\n",
      " [1 1 1 0 1 2 1 1]\n",
      " [2 2 2 2 1 0 1 1]\n",
      " [2 2 3 0 1 1 2 1]\n",
      " [1 0 0 2 2 1 0 1]\n",
      " [1 0 2 3 0 1 0 1]\n",
      " [2 2 3 0 2 2 2 0]]\n",
      "\n",
      "Reshaped Grid Policy (0=left, 1=down, 2=right, 3=up):\n",
      "[[1 1 1 1 1 1 1 1 1 1 1 0 2 1 1 0]\n",
      " [2 1 1 2 1 1 1 1 1 1 1 0 0 1 1 0]\n",
      " [0 1 1 0 1 2 1 1 1 1 1 0 1 0 1 0]\n",
      " [1 2 2 2 1 0 1 1 1 2 2 2 1 0 1 0]\n",
      " [1 0 3 0 1 1 2 1 1 0 3 0 1 1 0 0]\n",
      " [1 0 0 2 2 1 0 1 1 0 0 2 2 1 0 3]\n",
      " [1 0 1 0 0 1 0 2 1 0 1 0 0 1 0 3]\n",
      " [2 1 1 0 2 1 1 0 1 1 1 0 1 1 1 0]\n",
      " [0 1 1 0 0 1 1 0 1 1 1 0 1 1 1 0]\n",
      " [1 1 1 0 1 1 1 0 1 1 1 0 1 1 1 1]\n",
      " [1 2 1 0 1 2 1 1 2 1 1 0 1 2 1 1]\n",
      " [1 0 1 2 1 0 1 1 0 2 2 2 1 0 1 1]\n",
      " [2 2 1 0 1 1 2 1 1 0 3 0 1 1 2 1]\n",
      " [3 0 2 2 2 1 0 1 1 0 0 1 2 1 0 1]\n",
      " [1 0 2 3 0 1 0 1 1 0 1 1 0 1 0 1]\n",
      " [2 2 3 0 2 2 2 2 2 2 2 2 2 2 2 0]]\n",
      "\n",
      "←  ←   ←   ←   ←   ←   ←    ↓  \n",
      "↑  ←   ←   ←   ←   ←    ↓   ↓  \n",
      "↑  ←   ←   ←   ←    ↓   ↓   ↓  \n",
      "↑  ←   ←   ←    ↓   ↓   ↓   ↓  \n",
      "↑  ←   ←    ↓   ↓   ↓   ↓   ↓  \n",
      "↑  ←    ↓   ↓   ↓   ↓   ↓   ↓  \n",
      "↑   ↓   ↓   ↓   ↓   ↓   ↓   ↓  \n",
      "→  →   →   →   →   →   →   ←   \n"
     ]
    },
    {
     "data": {
      "image/png": "[encoded data removed]",
      "text/plain": [
       "<Figure size 720x360 with 2 Axes>"
      ]
     },
     "metadata": {
      "needs_background": "light"
     },
     "output_type": "display_data"
    }
   ],
   "source": [
    "vi_times = []\n",
    "vi_iterations = []\n",
    "vi_1_policies = []\n",
    "for i in envs:\n",
    "\n",
    "    env = i[0]\n",
    "    shape = i[1]\n",
    "    \n",
    "    t = time.clock()\n",
    "    vi_policy, v, iterations = value_iteration(env)\n",
    "    vi_1_policies.append(vi_policy)\n",
    "    vi_times.append(time.clock() - t)\n",
    "    vi_iterations.append(iterations)\n",
    "\n",
    "    print(\"Reshaped Grid Policy (0=left, 1=down, 2=right, 3=up):\")\n",
    "    print(np.reshape(np.argmax(vi_policy, axis=1), shape))\n",
    "    print(\"\")\n",
    "    \n",
    "plot_vi_results(x_axis = [\"GW 8x8\", \"FL 8x8\",\"FL 16X16\"], \n",
    "                vi_iterations = vi_iterations, \n",
    "                vi_times = vi_times,\n",
    "                save_as = \"VI_1.png\")\n",
    "\n",
    "vi_policy, v, iterations = value_iteration(gw64)\n",
    "pi = np.argmax(vi_policy, axis=1)\n",
    "matprint(print_policy(pi, width=8, height=8))"
   ]
  },
  {
   "cell_type": "markdown",
   "metadata": {
    "heading_collapsed": true
   },
   "source": [
    "## policy iteration and value iteration: discount factor = 0.5"
   ]
  },
  {
   "cell_type": "code",
   "execution_count": 6,
   "metadata": {
    "ExecuteTime": {
     "end_time": "2019-04-10T10:48:13.448209Z",
     "start_time": "2019-04-10T10:48:13.443970Z"
    },
    "hidden": true
   },
   "outputs": [],
   "source": [
    "discount_factor = 0.5"
   ]
  },
  {
   "cell_type": "code",
   "execution_count": 7,
   "metadata": {
    "ExecuteTime": {
     "end_time": "2019-04-10T10:48:16.818023Z",
     "start_time": "2019-04-10T10:48:13.453424Z"
    },
    "hidden": true
   },
   "outputs": [
    {
     "name": "stdout",
     "output_type": "stream",
     "text": [
      "Reshaped Grid Policy (0=LEFT, 1=DOWN, 2=RIGHT, 3=UP):\n",
      "[[0 0 0 0 0 0 0 0]\n",
      " [3 0 0 0 0 0 0 1]\n",
      " [3 0 0 0 0 0 1 1]\n",
      " [3 0 0 0 0 1 1 1]\n",
      " [3 0 0 0 1 1 1 1]\n",
      " [3 0 0 1 1 1 1 1]\n",
      " [3 0 1 1 1 1 1 1]\n",
      " [2 2 2 2 2 2 2 0]]\n",
      "\n",
      "Reshaped Grid Policy (0=LEFT, 1=DOWN, 2=RIGHT, 3=UP):\n",
      "[[1 1 1 1 1 1 1 1]\n",
      " [1 1 1 2 1 1 1 1]\n",
      " [1 1 1 0 1 2 1 1]\n",
      " [2 2 2 2 1 0 1 1]\n",
      " [2 2 3 0 1 1 2 1]\n",
      " [1 0 0 2 2 1 0 1]\n",
      " [1 0 2 3 0 1 0 1]\n",
      " [2 2 3 0 2 2 2 0]]\n",
      "\n",
      "Reshaped Grid Policy (0=LEFT, 1=DOWN, 2=RIGHT, 3=UP):\n",
      "[[0 0 1 0 1 1 1 1 1 1 1 0 2 1 1 0]\n",
      " [0 0 1 2 1 1 1 1 1 1 1 0 0 1 1 0]\n",
      " [0 1 1 0 1 2 1 1 1 1 1 0 1 0 1 0]\n",
      " [0 2 2 2 1 0 1 1 1 2 2 2 1 0 1 0]\n",
      " [1 2 3 0 1 1 2 1 1 0 3 0 1 1 0 0]\n",
      " [1 0 0 2 2 1 0 1 1 0 0 2 2 1 0 3]\n",
      " [1 0 1 0 0 1 0 2 1 0 1 0 0 1 0 3]\n",
      " [2 1 1 0 2 1 1 0 1 1 1 0 1 1 1 0]\n",
      " [0 1 1 0 0 1 1 0 1 1 1 0 1 1 1 0]\n",
      " [1 1 1 0 1 1 1 0 1 1 1 0 1 1 1 1]\n",
      " [1 2 1 0 1 2 1 1 2 1 1 0 1 2 1 1]\n",
      " [1 0 1 2 1 0 1 1 0 2 2 2 1 0 1 1]\n",
      " [2 2 1 0 1 1 2 1 1 0 3 0 1 1 2 1]\n",
      " [3 0 2 2 2 1 0 1 1 0 0 1 2 1 0 1]\n",
      " [1 0 2 3 0 1 0 1 1 0 1 1 0 1 0 1]\n",
      " [2 2 3 0 2 2 2 2 2 2 2 2 2 2 2 0]]\n",
      "\n",
      "←  ←  ←   ←   ←   ←   ←   ←   \n",
      "↑  ←  ←   ←   ←   ←   ←    ↓  \n",
      "↑  ←  ←   ←   ←   ←    ↓   ↓  \n",
      "↑  ←  ←   ←   ←    ↓   ↓   ↓  \n",
      "↑  ←  ←   ←    ↓   ↓   ↓   ↓  \n",
      "↑  ←  ←    ↓   ↓   ↓   ↓   ↓  \n",
      "↑  ←   ↓   ↓   ↓   ↓   ↓   ↓  \n",
      "→  →  →   →   →   →   →   ←   \n"
     ]
    },
    {
     "data": {
      "image/png": "[encoded data removed]",
      "text/plain": [
       "<Figure size 720x360 with 2 Axes>"
      ]
     },
     "metadata": {
      "needs_background": "light"
     },
     "output_type": "display_data"
    }
   ],
   "source": [
    "pi_times = []\n",
    "pi_iterations = []\n",
    "pi_eval_time = []\n",
    "pi_2_policies = []\n",
    "for i in envs:\n",
    "    \n",
    "    env = i[0]\n",
    "    shape = i[1]\n",
    "    \n",
    "    \n",
    "    t = time.clock()\n",
    "    pi_policy, v, iterations, eval_time = policy_improvement(env, discount_factor = discount_factor)\n",
    "    pi_2_policies.append(pi_policy)\n",
    "    pi_times.append(time.clock() - t)\n",
    "    pi_iterations.append(iterations)\n",
    "    pi_eval_time.append(eval_time)\n",
    "    \n",
    "    \n",
    "    print(\"Reshaped Grid Policy (0=LEFT, 1=DOWN, 2=RIGHT, 3=UP):\")\n",
    "    print(np.reshape(np.argmax(pi_policy, axis=1), shape))\n",
    "    pi = np.argmax(pi_policy, axis=1)\n",
    "    print(\"\")\n",
    "    \n",
    "plot_pi_results(x_axis = [\"GW 8x8\", \"FL 8x8\",\"FL 16X16\"], \n",
    "                pi_iterations = pi_iterations, \n",
    "                pi_times = pi_times, \n",
    "                pi_eval_time = pi_eval_time,\n",
    "                save_as = 'PI_2.png')\n",
    "\n",
    "pi_policy, v, iterations, eval_time = policy_improvement(gw64)\n",
    "pi = np.argmax(pi_policy, axis=1)\n",
    "matprint(print_policy(pi, width=8, height=8))"
   ]
  },
  {
   "cell_type": "code",
   "execution_count": 8,
   "metadata": {
    "ExecuteTime": {
     "end_time": "2019-04-10T10:48:17.936007Z",
     "start_time": "2019-04-10T10:48:16.823730Z"
    },
    "hidden": true
   },
   "outputs": [
    {
     "name": "stdout",
     "output_type": "stream",
     "text": [
      "Reshaped Grid Policy (0=left, 1=down, 2=right, 3=up):\n",
      "[[0 0 0 0 0 0 0 1]\n",
      " [3 0 0 0 0 0 1 1]\n",
      " [3 0 0 0 0 1 1 1]\n",
      " [3 0 0 0 1 1 1 1]\n",
      " [3 0 0 1 1 1 1 1]\n",
      " [3 0 1 1 1 1 1 1]\n",
      " [3 1 1 1 1 1 1 1]\n",
      " [2 2 2 2 2 2 2 0]]\n",
      "\n",
      "Reshaped Grid Policy (0=left, 1=down, 2=right, 3=up):\n",
      "[[1 1 1 1 1 1 1 1]\n",
      " [1 1 1 2 1 1 1 1]\n",
      " [1 1 1 0 1 2 1 1]\n",
      " [2 2 2 2 1 0 1 1]\n",
      " [3 3 3 0 1 1 2 1]\n",
      " [3 0 0 2 2 1 0 1]\n",
      " [1 0 2 3 0 1 0 1]\n",
      " [2 2 3 0 2 2 2 0]]\n",
      "\n",
      "Reshaped Grid Policy (0=left, 1=down, 2=right, 3=up):\n",
      "[[0 0 0 0 1 0 0 0 1 1 1 0 2 1 1 0]\n",
      " [3 3 3 2 1 0 3 1 1 1 1 0 0 1 1 0]\n",
      " [0 3 1 0 1 0 1 1 1 1 1 0 1 0 1 0]\n",
      " [0 2 2 0 0 0 1 1 1 2 2 2 1 0 1 0]\n",
      " [1 0 3 0 1 1 2 1 1 0 3 0 1 1 0 0]\n",
      " [0 0 0 2 2 1 0 1 1 0 0 2 2 1 0 3]\n",
      " [0 0 1 0 0 1 0 2 1 0 1 0 0 1 0 3]\n",
      " [0 1 1 0 2 1 1 0 1 1 1 0 1 1 1 0]\n",
      " [0 1 1 0 0 1 1 0 1 1 1 0 1 1 1 0]\n",
      " [1 1 1 0 1 1 1 0 1 1 1 0 1 1 1 1]\n",
      " [1 2 1 0 1 2 1 1 2 1 1 0 1 2 1 1]\n",
      " [1 0 1 2 1 0 1 1 0 2 2 2 1 0 1 1]\n",
      " [2 2 1 0 1 1 2 1 1 0 3 0 1 1 2 1]\n",
      " [3 0 2 2 2 1 0 1 1 0 0 1 2 1 0 1]\n",
      " [3 0 3 3 0 1 0 1 1 0 1 1 0 1 0 1]\n",
      " [2 2 3 0 2 2 2 2 2 2 2 2 2 2 2 0]]\n",
      "\n",
      "←  ←   ←   ←   ←   ←   ←    ↓  \n",
      "↑  ←   ←   ←   ←   ←    ↓   ↓  \n",
      "↑  ←   ←   ←   ←    ↓   ↓   ↓  \n",
      "↑  ←   ←   ←    ↓   ↓   ↓   ↓  \n",
      "↑  ←   ←    ↓   ↓   ↓   ↓   ↓  \n",
      "↑  ←    ↓   ↓   ↓   ↓   ↓   ↓  \n",
      "↑   ↓   ↓   ↓   ↓   ↓   ↓   ↓  \n",
      "→  →   →   →   →   →   →   ←   \n"
     ]
    },
    {
     "data": {
      "image/png": "[encoded data removed]",
      "text/plain": [
       "<Figure size 720x360 with 2 Axes>"
      ]
     },
     "metadata": {
      "needs_background": "light"
     },
     "output_type": "display_data"
    }
   ],
   "source": [
    "vi_times = []\n",
    "vi_iterations = []\n",
    "vi_2_policies = []\n",
    "for i in envs:\n",
    "\n",
    "    env = i[0]\n",
    "    shape = i[1]\n",
    "    \n",
    "    t = time.clock()\n",
    "    vi_policy, v, iterations = value_iteration(env, discount_factor = discount_factor)\n",
    "    vi_2_policies.append(vi_policy)\n",
    "    vi_times.append(time.clock() - t)\n",
    "    vi_iterations.append(iterations)\n",
    "\n",
    "    print(\"Reshaped Grid Policy (0=left, 1=down, 2=right, 3=up):\")\n",
    "    print(np.reshape(np.argmax(vi_policy, axis=1), shape))\n",
    "    print(\"\")\n",
    "    \n",
    "plot_vi_results(x_axis = [\"GW 8x8\", \"FL 8x8\",\"FL 16X16\"], \n",
    "                vi_iterations = vi_iterations, \n",
    "                vi_times = vi_times,\n",
    "                save_as = 'VI_2.png')\n",
    "\n",
    "vi_policy, v, iterations = value_iteration(gw64)\n",
    "pi = np.argmax(vi_policy, axis=1)\n",
    "matprint(print_policy(pi, width=8, height=8))"
   ]
  },
  {
   "cell_type": "code",
   "execution_count": 23,
   "metadata": {
    "ExecuteTime": {
     "end_time": "2019-04-10T10:51:20.549639Z",
     "start_time": "2019-04-10T10:51:20.542785Z"
    },
    "hidden": true
   },
   "outputs": [
    {
     "name": "stdout",
     "output_type": "stream",
     "text": [
      "0\n",
      "False\n",
      "1\n",
      "True\n",
      "2\n",
      "True\n"
     ]
    }
   ],
   "source": [
    "for i in range(0, len(pi_1_policies)):\n",
    "    print(i)\n",
    "    print(np.array_equal(pi_1_policies[i], vi_1_policies[i]))"
   ]
  },
  {
   "cell_type": "code",
   "execution_count": 25,
   "metadata": {
    "ExecuteTime": {
     "end_time": "2019-04-10T10:52:28.015936Z",
     "start_time": "2019-04-10T10:52:28.007464Z"
    },
    "hidden": true
   },
   "outputs": [
    {
     "name": "stderr",
     "output_type": "stream",
     "text": [
      "/Users/Andy/anaconda/envs/ml/lib/python3.6/site-packages/ipykernel_launcher.py:1: DeprecationWarning: elementwise == comparison failed; this will raise an error in the future.\n",
      "  \"\"\"Entry point for launching an IPython kernel.\n"
     ]
    },
    {
     "data": {
      "text/plain": [
       "False"
      ]
     },
     "execution_count": 25,
     "metadata": {},
     "output_type": "execute_result"
    }
   ],
   "source": [
    "pi_1_policies[0] == vi_1_policies"
   ]
  },
  {
   "cell_type": "code",
   "execution_count": null,
   "metadata": {
    "ExecuteTime": {
     "end_time": "2019-04-07T15:54:53.958222Z",
     "start_time": "2019-04-07T15:54:53.946303Z"
    },
    "hidden": true
   },
   "outputs": [],
   "source": [
    "import cs7641assn4 as a4"
   ]
  },
  {
   "cell_type": "code",
   "execution_count": null,
   "metadata": {
    "ExecuteTime": {
     "end_time": "2019-04-06T20:59:33.572514Z",
     "start_time": "2019-04-06T20:59:33.526465Z"
    },
    "hidden": true
   },
   "outputs": [],
   "source": [
    "id = 'Deterministic-8x8-FrozenLake-v0' # string identifier for environment, arbitrary label\n",
    "rH = 0 #-5 # reward for H(ole)\n",
    "rG = 1 # 10 # reward for G(oal)\n",
    "rF = 0 # reward includes S(tart) and F(rozen)\n",
    "size = 8 # height and width of square gridworld\n",
    "p = 0.8 # if generating a random map probability that a grid will be F(rozen)\n",
    "desc = None # frozen_lake.generate_random_map(size=size, p=p)\n",
    "map_name = 'x'.join([str(size)]*2) # None\n",
    "is_slippery = False\n",
    "\n",
    "epsilon = 1e-8 # convergence threshold for policy/value iteration\n",
    "gamma = 0.8 # discount parameter for past policy/value iterations\n",
    "max_iter = 10000 # maximum iterations for slowly converging policy/value iteration \n",
    "\n",
    "# Create Environment\n",
    "env = a4.getEnv(id=id, render_initial=True)\n",
    "\n",
    "# Display reward at each state\n",
    "a4.matprint(a4.print_value(a4.getStateReward(env)))"
   ]
  },
  {
   "cell_type": "code",
   "execution_count": null,
   "metadata": {
    "ExecuteTime": {
     "end_time": "2019-04-06T20:59:38.967676Z",
     "start_time": "2019-04-06T20:59:38.963511Z"
    },
    "hidden": true
   },
   "outputs": [],
   "source": [
    "# pi_policy, v, i÷terations = policy_improvement(env)\n",
    "\n",
    "# print(\"Reshaped Grid Policy (0=up, 1=right, 2=down, 3=left):\")\n",
    "# print(np.reshape(np.argmax(pi_policy, axis=1), [8,8]))\n",
    "# print(\"\")"
   ]
  },
  {
   "cell_type": "code",
   "execution_count": null,
   "metadata": {
    "ExecuteTime": {
     "end_time": "2019-04-06T20:59:40.619317Z",
     "start_time": "2019-04-06T20:59:40.595906Z"
    },
    "hidden": true
   },
   "outputs": [],
   "source": [
    "V, pi, epochs = a4.policy_iteration(env, epsilon=epsilon, gamma=gamma, max_iter=max_iter, report=True)\n",
    "\n",
    "# Display values\n",
    "a4.matprint(a4.print_value(V))\n",
    "\n",
    "# Display policy\n",
    "a4.matprint(a4.print_policy(pi, width=size, height=size))"
   ]
  },
  {
   "cell_type": "code",
   "execution_count": null,
   "metadata": {
    "ExecuteTime": {
     "end_time": "2019-04-06T20:59:52.644684Z",
     "start_time": "2019-04-06T20:59:52.627266Z"
    },
    "hidden": true
   },
   "outputs": [],
   "source": [
    "V, pi, epochs = a4.policy_iteration(env16, epsilon=epsilon, gamma=gamma, max_iter=max_iter, report=True)\n",
    "\n",
    "# Display values\n",
    "a4.matprint(a4.print_value(V))\n",
    "\n",
    "# Display policy\n",
    "a4.matprint(a4.print_policy(pi, width=size, height=size))"
   ]
  },
  {
   "cell_type": "code",
   "execution_count": null,
   "metadata": {
    "ExecuteTime": {
     "end_time": "2019-04-06T21:12:46.458056Z",
     "start_time": "2019-04-06T21:12:46.450680Z"
    },
    "hidden": true
   },
   "outputs": [],
   "source": [
    "pi"
   ]
  },
  {
   "cell_type": "code",
   "execution_count": null,
   "metadata": {
    "hidden": true
   },
   "outputs": [],
   "source": [
    "# print(\"Number of Iterations\")\n",
    "# print(iterations)\n",
    "\n",
    "# print(\"Policy Probability Distribution:\")a\n",
    "\n",
    "# print(policy)\n",
    "# print(\"\")\n",
    "\n",
    "# print(\"Reshaped Grid Policy (0=up, 1=right, 2=down, 3=left):\")\n",
    "# print(np.reshape(np.argmax(policy, axis=1), env.shape))\n",
    "# print(\"\")\n",
    "\n",
    "# print(\"Value Function:\")\n",
    "# print(v)\n",
    "# print(\"\")\n",
    "\n",
    "# print(\"Reshaped Grid Value Function:\")\n",
    "# print(v.reshape(env.shape))\n",
    "# print(\"\")"
   ]
  },
  {
   "cell_type": "code",
   "execution_count": null,
   "metadata": {
    "hidden": true
   },
   "outputs": [],
   "source": [
    "# print(\"Number of Iterations\")\n",
    "# print(iterations)\n",
    "\n",
    "# print(\"Policy Probability Distribution:\")\n",
    "# print(value_iteration_policy)\n",
    "# print(\"\")\n",
    "\n",
    "# print(\"Reshaped Grid Policy (0=up, 1=right, 2=down, 3=left):\")\n",
    "# print(np.reshape(np.argmax(value_iteration_policy, axis=1), env.shape))\n",
    "# print(\"\")\n",
    "\n",
    "# print(\"Value Function:\")\n",
    "# print(v)\n",
    "# print(\"\")\n",
    "\n",
    "# print(\"Reshaped Grid Value Function:\")\n",
    "# print(v.reshape(env.shape))\n",
    "# print(\"\")"
   ]
  }
 ],
 "metadata": {
  "kernelspec": {
   "display_name": "Python 3",
   "language": "python",
   "name": "python3"
  },
  "language_info": {
   "codemirror_mode": {
    "name": "ipython",
    "version": 3
   },
   "file_extension": ".py",
   "mimetype": "text/x-python",
   "name": "python",
   "nbconvert_exporter": "python",
   "pygments_lexer": "ipython3",
   "version": "3.6.7"
  },
  "toc": {
   "base_numbering": 1,
   "nav_menu": {},
   "number_sections": true,
   "sideBar": true,
   "skip_h1_title": false,
   "title_cell": "Table of Contents",
   "title_sidebar": "Contents",
   "toc_cell": false,
   "toc_position": {},
   "toc_section_display": true,
   "toc_window_display": false
  }
 },
 "nbformat": 4,
 "nbformat_minor": 2
}
